{
 "cells": [
  {
   "cell_type": "markdown",
   "metadata": {},
   "source": [
    "# Spark DataFrames & SQL - Interactive Learning Notebook\n",
    "\n",
    "Welcome to Lesson 2 of the Spark Bootcamp! This notebook provides hands-on experience with Spark DataFrames and SQL operations.\n",
    "\n",
    "## Learning Objectives\n",
    "\n",
    "By the end of this notebook, you will:\n",
    "- Understand DataFrame fundamentals and advantages over RDDs\n",
    "- Create DataFrames from various sources\n",
    "- Perform data transformations and aggregations\n",
    "- Use Spark SQL for complex queries\n",
    "- Apply window functions and analytics\n",
    "- Optimize performance with caching and query plans"
   ]
  },
  {
   "cell_type": "markdown",
   "metadata": {},
   "source": [
    "## Section 1: Setting Up Spark DataFrame Environment"
   ]
  },
  {
   "cell_type": "code",
   "execution_count": 1,
   "metadata": {},
   "outputs": [
    {
     "name": "stderr",
     "output_type": "stream",
     "text": [
      "25/10/01 16:28:44 WARN Utils: Your hostname, Liams-MacBook-Pro.local resolves to a loopback address: 127.0.2.2; using 192.168.1.240 instead (on interface en0)\n",
      "25/10/01 16:28:44 WARN Utils: Set SPARK_LOCAL_IP if you need to bind to another address\n",
      "Setting default log level to \"WARN\".\n",
      "To adjust logging level use sc.setLogLevel(newLevel). For SparkR, use setLogLevel(newLevel).\n",
      "25/10/01 16:28:44 WARN NativeCodeLoader: Unable to load native-hadoop library for your platform... using builtin-java classes where applicable\n"
     ]
    },
    {
     "name": "stdout",
     "output_type": "stream",
     "text": [
      "Spark version: 3.5.7\n",
      "Spark context available: True\n"
     ]
    }
   ],
   "source": [
    "# Import required libraries\n",
    "from pyspark.sql import SparkSession\n",
    "from pyspark.sql.functions import *\n",
    "from pyspark.sql.types import *\n",
    "from pyspark.sql.window import Window\n",
    "import pandas as pd\n",
    "import matplotlib.pyplot as plt\n",
    "import seaborn as sns\n",
    "\n",
    "# Create Spark session\n",
    "spark = SparkSession.builder \\\n",
    "    .appName(\"DataFrames-Learning\") \\\n",
    "    .master(\"local[*]\") \\\n",
    "    .config(\"spark.sql.adaptive.enabled\", \"true\") \\\n",
    "    .getOrCreate()\n",
    "\n",
    "print(f\"Spark version: {spark.version}\")\n",
    "print(f\"Spark context available: {spark.sparkContext is not None}\")"
   ]
  },
  {
   "cell_type": "markdown",
   "metadata": {},
   "source": [
    "## Section 2: DataFrame Creation Fundamentals\n",
    "\n",
    "Let's start by creating DataFrames using different methods."
   ]
  },
  {
   "cell_type": "code",
   "execution_count": 2,
   "metadata": {},
   "outputs": [
    {
     "name": "stdout",
     "output_type": "stream",
     "text": [
      "DataFrame created from list of tuples:\n"
     ]
    },
    {
     "name": "stderr",
     "output_type": "stream",
     "text": [
      "                                                                                "
     ]
    },
    {
     "name": "stdout",
     "output_type": "stream",
     "text": [
      "+---------------+---+-----------+------+\n",
      "|           name|age| department|salary|\n",
      "+---------------+---+-----------+------+\n",
      "|  Alice Johnson| 28|Engineering| 85000|\n",
      "|       Bob Chen| 34|  Marketing| 65000|\n",
      "|  Charlie Davis| 29|Engineering| 78000|\n",
      "|Diana Rodriguez| 31|      Sales| 72000|\n",
      "|     Eve Wilson| 26|Engineering| 92000|\n",
      "+---------------+---+-----------+------+\n",
      "\n",
      "root\n",
      " |-- name: string (nullable = true)\n",
      " |-- age: long (nullable = true)\n",
      " |-- department: string (nullable = true)\n",
      " |-- salary: long (nullable = true)\n",
      "\n"
     ]
    }
   ],
   "source": [
    "# Method 1: Create DataFrame from Python data structures\n",
    "employee_data = [\n",
    "    (\"Alice Johnson\", 28, \"Engineering\", 85000),\n",
    "    (\"Bob Chen\", 34, \"Marketing\", 65000),\n",
    "    (\"Charlie Davis\", 29, \"Engineering\", 78000),\n",
    "    (\"Diana Rodriguez\", 31, \"Sales\", 72000),\n",
    "    (\"Eve Wilson\", 26, \"Engineering\", 92000)\n",
    "]\n",
    "\n",
    "columns = [\"name\", \"age\", \"department\", \"salary\"]\n",
    "employees_df = spark.createDataFrame(employee_data, columns)\n",
    "\n",
    "print(\"DataFrame created from list of tuples:\")\n",
    "employees_df.show()\n",
    "employees_df.printSchema()"
   ]
  },
  {
   "cell_type": "code",
   "execution_count": 3,
   "metadata": {},
   "outputs": [
    {
     "name": "stdout",
     "output_type": "stream",
     "text": [
      "DataFrame with explicit schema:\n",
      "root\n",
      " |-- name: string (nullable = true)\n",
      " |-- age: integer (nullable = true)\n",
      " |-- department: string (nullable = true)\n",
      " |-- salary: integer (nullable = true)\n",
      "\n",
      "Row count: 5\n"
     ]
    }
   ],
   "source": [
    "# Method 2: Create DataFrame with explicit schema\n",
    "schema = StructType([\n",
    "    StructField(\"name\", StringType(), True),\n",
    "    StructField(\"age\", IntegerType(), True),\n",
    "    StructField(\"department\", StringType(), True),\n",
    "    StructField(\"salary\", IntegerType(), True)\n",
    "])\n",
    "\n",
    "employees_typed_df = spark.createDataFrame(employee_data, schema)\n",
    "\n",
    "print(\"DataFrame with explicit schema:\")\n",
    "employees_typed_df.printSchema()\n",
    "print(f\"Row count: {employees_typed_df.count()}\")"
   ]
  },
  {
   "cell_type": "code",
   "execution_count": 4,
   "metadata": {},
   "outputs": [
    {
     "name": "stdout",
     "output_type": "stream",
     "text": [
      "DataFrame from dictionaries:\n",
      "+-----------+-------+------+------+-----+\n",
      "|   category|     id|  name| price|stock|\n",
      "+-----------+-------+------+------+-----+\n",
      "|Electronics|PROD001|Laptop|999.99|   50|\n",
      "|Electronics|PROD002| Mouse| 29.99|  200|\n",
      "|  Furniture|PROD003| Chair|199.99|   30|\n",
      "+-----------+-------+------+------+-----+\n",
      "\n",
      "Columns: ['category', 'id', 'name', 'price', 'stock']\n"
     ]
    },
    {
     "name": "stderr",
     "output_type": "stream",
     "text": [
      "25/10/01 16:28:57 WARN GarbageCollectionMetrics: To enable non-built-in garbage collector(s) List(G1 Concurrent GC), users should configure it(them) to spark.eventLog.gcMetrics.youngGenerationGarbageCollectors or spark.eventLog.gcMetrics.oldGenerationGarbageCollectors\n"
     ]
    }
   ],
   "source": [
    "# Method 3: Create DataFrame from dictionaries\n",
    "product_dicts = [\n",
    "    {\"id\": \"PROD001\", \"name\": \"Laptop\", \"category\": \"Electronics\", \"price\": 999.99, \"stock\": 50},\n",
    "    {\"id\": \"PROD002\", \"name\": \"Mouse\", \"category\": \"Electronics\", \"price\": 29.99, \"stock\": 200},\n",
    "    {\"id\": \"PROD003\", \"name\": \"Chair\", \"category\": \"Furniture\", \"price\": 199.99, \"stock\": 30}\n",
    "]\n",
    "\n",
    "products_df = spark.createDataFrame(product_dicts)\n",
    "\n",
    "print(\"DataFrame from dictionaries:\")\n",
    "products_df.show()\n",
    "print(f\"Columns: {products_df.columns}\")"
   ]
  },
  {
   "cell_type": "markdown",
   "metadata": {},
   "source": [
    "## Section 3: Basic DataFrame Operations\n",
    "\n",
    "Learn the fundamental operations for working with DataFrames."
   ]
  },
  {
   "cell_type": "code",
   "execution_count": 5,
   "metadata": {},
   "outputs": [
    {
     "name": "stdout",
     "output_type": "stream",
     "text": [
      "=== Basic DataFrame Operations ===\n",
      "\n",
      "1. Select name and salary:\n",
      "+---------------+------+\n",
      "|           name|salary|\n",
      "+---------------+------+\n",
      "|  Alice Johnson| 85000|\n",
      "|       Bob Chen| 65000|\n",
      "|  Charlie Davis| 78000|\n",
      "|Diana Rodriguez| 72000|\n",
      "|     Eve Wilson| 92000|\n",
      "+---------------+------+\n",
      "\n",
      "\n",
      "2. Filter Engineering employees:\n",
      "+-------------+---+-----------+------+\n",
      "|         name|age| department|salary|\n",
      "+-------------+---+-----------+------+\n",
      "|Alice Johnson| 28|Engineering| 85000|\n",
      "|Charlie Davis| 29|Engineering| 78000|\n",
      "|   Eve Wilson| 26|Engineering| 92000|\n",
      "+-------------+---+-----------+------+\n",
      "\n",
      "\n",
      "3. Sort by salary descending:\n",
      "+---------------+---+-----------+------+\n",
      "|           name|age| department|salary|\n",
      "+---------------+---+-----------+------+\n",
      "|     Eve Wilson| 26|Engineering| 92000|\n",
      "|  Alice Johnson| 28|Engineering| 85000|\n",
      "|  Charlie Davis| 29|Engineering| 78000|\n",
      "|Diana Rodriguez| 31|      Sales| 72000|\n",
      "|       Bob Chen| 34|  Marketing| 65000|\n",
      "+---------------+---+-----------+------+\n",
      "\n",
      "\n",
      "4. Add annual bonus column (10% of salary):\n",
      "+---------------+------+------------+\n",
      "|           name|salary|annual_bonus|\n",
      "+---------------+------+------------+\n",
      "|  Alice Johnson| 85000|      8500.0|\n",
      "|       Bob Chen| 65000|      6500.0|\n",
      "|  Charlie Davis| 78000|      7800.0|\n",
      "|Diana Rodriguez| 72000|      7200.0|\n",
      "|     Eve Wilson| 92000|      9200.0|\n",
      "+---------------+------+------------+\n",
      "\n"
     ]
    }
   ],
   "source": [
    "# Basic operations\n",
    "print(\"=== Basic DataFrame Operations ===\")\n",
    "\n",
    "# Select specific columns\n",
    "print(\"\\n1. Select name and salary:\")\n",
    "employees_df.select(\"name\", \"salary\").show()\n",
    "\n",
    "# Filter data\n",
    "print(\"\\n2. Filter Engineering employees:\")\n",
    "engineers = employees_df.filter(col(\"department\") == \"Engineering\")\n",
    "engineers.show()\n",
    "\n",
    "# Sort data\n",
    "print(\"\\n3. Sort by salary descending:\")\n",
    "employees_df.orderBy(desc(\"salary\")).show()\n",
    "\n",
    "# Add calculated columns\n",
    "print(\"\\n4. Add annual bonus column (10% of salary):\")\n",
    "with_bonus = employees_df.withColumn(\"annual_bonus\", col(\"salary\") * 0.1)\n",
    "with_bonus.select(\"name\", \"salary\", \"annual_bonus\").show()"
   ]
  },
  {
   "cell_type": "code",
   "execution_count": 6,
   "metadata": {},
   "outputs": [
    {
     "name": "stdout",
     "output_type": "stream",
     "text": [
      "=== Aggregation Operations ===\n",
      "\n",
      "1. Overall statistics:\n",
      "+---------------+----------+----------+----------+\n",
      "|total_employees|avg_salary|max_salary|min_salary|\n",
      "+---------------+----------+----------+----------+\n",
      "|              5|   78400.0|     92000|     65000|\n",
      "+---------------+----------+----------+----------+\n",
      "\n",
      "\n",
      "2. Statistics by department:\n",
      "+-----------+--------------+----------+-------------+\n",
      "| department|employee_count|avg_salary|total_payroll|\n",
      "+-----------+--------------+----------+-------------+\n",
      "|Engineering|             3|   85000.0|       255000|\n",
      "|  Marketing|             1|   65000.0|        65000|\n",
      "|      Sales|             1|   72000.0|        72000|\n",
      "+-----------+--------------+----------+-------------+\n",
      "\n"
     ]
    }
   ],
   "source": [
    "# Aggregations\n",
    "print(\"=== Aggregation Operations ===\")\n",
    "\n",
    "# Basic aggregations\n",
    "print(\"\\n1. Overall statistics:\")\n",
    "stats = employees_df.agg(\n",
    "    count(\"*\").alias(\"total_employees\"),\n",
    "    avg(\"salary\").alias(\"avg_salary\"),\n",
    "    max(\"salary\").alias(\"max_salary\"),\n",
    "    min(\"salary\").alias(\"min_salary\")\n",
    ")\n",
    "stats.show()\n",
    "\n",
    "# Group by aggregations\n",
    "print(\"\\n2. Statistics by department:\")\n",
    "dept_stats = employees_df.groupBy(\"department\").agg(\n",
    "    count(\"*\").alias(\"employee_count\"),\n",
    "    round(avg(\"salary\"), 2).alias(\"avg_salary\"),\n",
    "    sum(\"salary\").alias(\"total_payroll\")\n",
    ")\n",
    "dept_stats.show()"
   ]
  },
  {
   "cell_type": "markdown",
   "metadata": {},
   "source": [
    "## Section 4: Column Functions and Transformations\n",
    "\n",
    "Explore the rich set of column functions available in Spark."
   ]
  },
  {
   "cell_type": "code",
   "execution_count": 7,
   "metadata": {},
   "outputs": [
    {
     "name": "stdout",
     "output_type": "stream",
     "text": [
      "=== String Functions ===\n",
      "+---------------+---------------+-----------+----------+---------+\n",
      "|name           |name_upper     |name_length|first_name|last_name|\n",
      "+---------------+---------------+-----------+----------+---------+\n",
      "|Alice Johnson  |ALICE JOHNSON  |13         |Alice     |Johnson  |\n",
      "|Bob Chen       |BOB CHEN       |8          |Bob       |Chen     |\n",
      "|Charlie Davis  |CHARLIE DAVIS  |13         |Charlie   |Davis    |\n",
      "|Diana Rodriguez|DIANA RODRIGUEZ|15         |Diana     |Rodriguez|\n",
      "|Eve Wilson     |EVE WILSON     |10         |Eve       |Wilson   |\n",
      "+---------------+---------------+-----------+----------+---------+\n",
      "\n"
     ]
    }
   ],
   "source": [
    "# String functions\n",
    "print(\"=== String Functions ===\")\n",
    "\n",
    "string_demo_df = employees_df.select(\n",
    "    col(\"name\"),\n",
    "    upper(col(\"name\")).alias(\"name_upper\"),\n",
    "    length(col(\"name\")).alias(\"name_length\"),\n",
    "    split(col(\"name\"), \" \").getItem(0).alias(\"first_name\"),\n",
    "    split(col(\"name\"), \" \").getItem(1).alias(\"last_name\")\n",
    ")\n",
    "\n",
    "string_demo_df.show(truncate=False)"
   ]
  },
  {
   "cell_type": "code",
   "execution_count": 8,
   "metadata": {},
   "outputs": [
    {
     "name": "stdout",
     "output_type": "stream",
     "text": [
      "=== Conditional Logic ===\n",
      "+---------------+---+------+----------+-----------+\n",
      "|           name|age|salary| age_group|salary_band|\n",
      "+---------------+---+------+----------+-----------+\n",
      "|  Alice Johnson| 28| 85000|     Young|       High|\n",
      "|       Bob Chen| 34| 65000|Mid-career|   Standard|\n",
      "|  Charlie Davis| 29| 78000|     Young|     Medium|\n",
      "|Diana Rodriguez| 31| 72000|Mid-career|     Medium|\n",
      "|     Eve Wilson| 26| 92000|     Young|       High|\n",
      "+---------------+---+------+----------+-----------+\n",
      "\n"
     ]
    }
   ],
   "source": [
    "# Conditional logic with when/otherwise\n",
    "print(\"=== Conditional Logic ===\")\n",
    "\n",
    "conditional_df = employees_df.select(\n",
    "    col(\"name\"),\n",
    "    col(\"age\"),\n",
    "    col(\"salary\"),\n",
    "    when(col(\"age\") < 30, \"Young\")\n",
    "        .when(col(\"age\") < 40, \"Mid-career\")\n",
    "        .otherwise(\"Experienced\").alias(\"age_group\"),\n",
    "    when(col(\"salary\") > 80000, \"High\")\n",
    "        .when(col(\"salary\") > 70000, \"Medium\")\n",
    "        .otherwise(\"Standard\").alias(\"salary_band\")\n",
    ")\n",
    "\n",
    "conditional_df.show()"
   ]
  },
  {
   "cell_type": "markdown",
   "metadata": {},
   "source": [
    "## Section 5: Spark SQL Integration\n",
    "\n",
    "Use SQL syntax for data analysis with temporary views."
   ]
  },
  {
   "cell_type": "code",
   "execution_count": 9,
   "metadata": {},
   "outputs": [
    {
     "name": "stdout",
     "output_type": "stream",
     "text": [
      "=== Spark SQL Queries ===\n",
      "\n",
      "1. Basic SELECT with WHERE:\n",
      "+-------------+-----------+------+\n",
      "|         name| department|salary|\n",
      "+-------------+-----------+------+\n",
      "|   Eve Wilson|Engineering| 92000|\n",
      "|Alice Johnson|Engineering| 85000|\n",
      "|Charlie Davis|Engineering| 78000|\n",
      "+-------------+-----------+------+\n",
      "\n",
      "\n",
      "2. Aggregation with GROUP BY:\n",
      "+-----------+--------------+----------+----------+\n",
      "| department|employee_count|avg_salary|max_salary|\n",
      "+-----------+--------------+----------+----------+\n",
      "|Engineering|             3|   85000.0|     92000|\n",
      "|      Sales|             1|   72000.0|     72000|\n",
      "|  Marketing|             1|   65000.0|     65000|\n",
      "+-----------+--------------+----------+----------+\n",
      "\n"
     ]
    }
   ],
   "source": [
    "# Create temporary views for SQL queries\n",
    "employees_df.createOrReplaceTempView(\"employees\")\n",
    "products_df.createOrReplaceTempView(\"products\")\n",
    "\n",
    "print(\"=== Spark SQL Queries ===\")\n",
    "\n",
    "# Basic SQL query\n",
    "print(\"\\n1. Basic SELECT with WHERE:\")\n",
    "result1 = spark.sql(\"\"\"\n",
    "    SELECT name, department, salary\n",
    "    FROM employees\n",
    "    WHERE salary > 75000\n",
    "    ORDER BY salary DESC\n",
    "\"\"\")\n",
    "result1.show()\n",
    "\n",
    "# Aggregation with GROUP BY\n",
    "print(\"\\n2. Aggregation with GROUP BY:\")\n",
    "result2 = spark.sql(\"\"\"\n",
    "    SELECT \n",
    "        department,\n",
    "        COUNT(*) as employee_count,\n",
    "        ROUND(AVG(salary), 2) as avg_salary,\n",
    "        MAX(salary) as max_salary\n",
    "    FROM employees\n",
    "    GROUP BY department\n",
    "    ORDER BY avg_salary DESC\n",
    "\"\"\")\n",
    "result2.show()"
   ]
  },
  {
   "cell_type": "markdown",
   "metadata": {},
   "source": [
    "## Section 6: Window Functions and Advanced Analytics\n",
    "\n",
    "Perform sophisticated analytics using window functions."
   ]
  },
  {
   "cell_type": "code",
   "execution_count": 10,
   "metadata": {},
   "outputs": [
    {
     "name": "stdout",
     "output_type": "stream",
     "text": [
      "=== Advanced Window Functions ===\n"
     ]
    },
    {
     "name": "stderr",
     "output_type": "stream",
     "text": [
      "25/10/01 16:30:53 WARN WindowExec: No Partition Defined for Window operation! Moving all data to a single partition, this can cause serious performance degradation.\n",
      "25/10/01 16:30:53 WARN WindowExec: No Partition Defined for Window operation! Moving all data to a single partition, this can cause serious performance degradation.\n",
      "25/10/01 16:30:53 WARN WindowExec: No Partition Defined for Window operation! Moving all data to a single partition, this can cause serious performance degradation.\n",
      "25/10/01 16:30:53 WARN WindowExec: No Partition Defined for Window operation! Moving all data to a single partition, this can cause serious performance degradation.\n"
     ]
    },
    {
     "name": "stdout",
     "output_type": "stream",
     "text": [
      "+---------------+-----------+------+---------+------------+---------------+--------+----------------+\n",
      "|           name| department|salary|dept_rank|overall_rank|dept_dense_rank|dept_avg|next_rank_salary|\n",
      "+---------------+-----------+------+---------+------------+---------------+--------+----------------+\n",
      "|     Eve Wilson|Engineering| 92000|        1|           1|              1| 85000.0|            NULL|\n",
      "|  Alice Johnson|Engineering| 85000|        2|           2|              2| 85000.0|           92000|\n",
      "|  Charlie Davis|Engineering| 78000|        3|           3|              3| 85000.0|           85000|\n",
      "|       Bob Chen|  Marketing| 65000|        1|           5|              1| 65000.0|            NULL|\n",
      "|Diana Rodriguez|      Sales| 72000|        1|           4|              1| 72000.0|            NULL|\n",
      "+---------------+-----------+------+---------+------------+---------------+--------+----------------+\n",
      "\n"
     ]
    }
   ],
   "source": [
    "# Window functions for ranking and analytics\n",
    "print(\"=== Advanced Window Functions ===\")\n",
    "\n",
    "# Define windows\n",
    "dept_window = Window.partitionBy(\"department\").orderBy(desc(\"salary\"))\n",
    "overall_window = Window.orderBy(desc(\"salary\")) # raise waring because no partition\n",
    "\n",
    "# Apply window functions\n",
    "windowed_analysis = employees_df.select(\n",
    "    col(\"name\"),\n",
    "    col(\"department\"),\n",
    "    col(\"salary\"),\n",
    "    \n",
    "    # Ranking functions\n",
    "    row_number().over(dept_window).alias(\"dept_rank\"),\n",
    "    rank().over(overall_window).alias(\"overall_rank\"),\n",
    "    dense_rank().over(dept_window).alias(\"dept_dense_rank\"),\n",
    "    \n",
    "    # Analytical functions\n",
    "    round(avg(\"salary\").over(Window.partitionBy(\"department\")), 2).alias(\"dept_avg\"),\n",
    "    lag(\"salary\", 1).over(dept_window).alias(\"next_rank_salary\")\n",
    ")\n",
    "\n",
    "windowed_analysis.orderBy(\"department\", \"dept_rank\").show()"
   ]
  },
  {
   "cell_type": "markdown",
   "metadata": {},
   "source": [
    "## Section 7: Performance Optimization\n",
    "\n",
    "Learn about caching and query optimization."
   ]
  },
  {
   "cell_type": "code",
   "execution_count": 19,
   "metadata": {},
   "outputs": [
    {
     "name": "stdout",
     "output_type": "stream",
     "text": [
      "=== Caching and Performance Optimization ===\n",
      "\n",
      "1. WITHOUT CACHING:\n",
      "   Time taken: 0.2914 seconds\n",
      "   Storage Level: Serialized 1x Replicated\n",
      "\n",
      "2. WITH CACHING:\n",
      "   Storage Level: Disk Memory Deserialized 1x Replicated\n",
      "   Time taken: 0.0726 seconds\n",
      "\n",
      "3. CACHE vs PERSIST:\n",
      "   Storage Level with persist(): Disk Memory Serialized 1x Replicated\n",
      "   Tip: Use MEMORY_AND_DISK when data might not fit in memory\n",
      "\n",
      "=== Query Execution Plan Analysis ===\n",
      "\n",
      "Complex Query: High-earning departments analysis\n",
      "\n",
      "--- LOGICAL PLAN (What to do) ---\n",
      "== Physical Plan ==\n",
      "AdaptiveSparkPlan isFinalPlan=false\n",
      "+- Filter (isnotnull(avg_salary#3598) AND (avg_salary#3598 > 80000.0))\n",
      "   +- HashAggregate(keys=[department#2], functions=[avg(salary#3L), count(1)])\n",
      "      +- Exchange hashpartitioning(department#2, 200), ENSURE_REQUIREMENTS, [plan_id=4178]\n",
      "         +- HashAggregate(keys=[department#2], functions=[partial_avg(salary#3L), partial_count(1)])\n",
      "            +- Filter (isnotnull(salary#3L) AND (salary#3L > 75000))\n",
      "               +- InMemoryTableScan [department#2, salary#3L], [isnotnull(salary#3L), (salary#3L > 75000)]\n",
      "                     +- InMemoryRelation [name#0, age#1L, department#2, salary#3L], StorageLevel(disk, memory, 1 replicas)\n",
      "                           +- *(1) Scan ExistingRDD[name#0,age#1L,department#2,salary#3L]\n",
      "\n",
      "\n",
      "\n",
      "--- PHYSICAL PLAN (How to do it) ---\n",
      "== Physical Plan ==\n",
      "AdaptiveSparkPlan (9)\n",
      "+- Filter (8)\n",
      "   +- HashAggregate (7)\n",
      "      +- Exchange (6)\n",
      "         +- HashAggregate (5)\n",
      "            +- Filter (4)\n",
      "               +- InMemoryTableScan (1)\n",
      "                     +- InMemoryRelation (2)\n",
      "                           +- * Scan ExistingRDD (3)\n",
      "\n",
      "\n",
      "(1) InMemoryTableScan\n",
      "Output [2]: [department#2, salary#3L]\n",
      "Arguments: [department#2, salary#3L], [isnotnull(salary#3L), (salary#3L > 75000)]\n",
      "\n",
      "(2) InMemoryRelation\n",
      "Arguments: [name#0, age#1L, department#2, salary#3L], CachedRDDBuilder(org.apache.spark.sql.execution.columnar.DefaultCachedBatchSerializer@2aad89a0,StorageLevel(disk, memory, 1 replicas),*(1) Scan ExistingRDD[name#0,age#1L,department#2,salary#3L]\n",
      ",None)\n",
      "\n",
      "(3) Scan ExistingRDD [codegen id : 1]\n",
      "Output [4]: [name#0, age#1L, department#2, salary#3L]\n",
      "Arguments: [name#0, age#1L, department#2, salary#3L], MapPartitionsRDD[4] at applySchemaToPythonRDD at NativeMethodAccessorImpl.java:0, ExistingRDD, UnknownPartitioning(0)\n",
      "\n",
      "(4) Filter\n",
      "Input [2]: [department#2, salary#3L]\n",
      "Condition : (isnotnull(salary#3L) AND (salary#3L > 75000))\n",
      "\n",
      "(5) HashAggregate\n",
      "Input [2]: [department#2, salary#3L]\n",
      "Keys [1]: [department#2]\n",
      "Functions [2]: [partial_avg(salary#3L), partial_count(1)]\n",
      "Aggregate Attributes [3]: [sum#3664, count#3665L, count#3666L]\n",
      "Results [4]: [department#2, sum#3667, count#3668L, count#3669L]\n",
      "\n",
      "(6) Exchange\n",
      "Input [4]: [department#2, sum#3667, count#3668L, count#3669L]\n",
      "Arguments: hashpartitioning(department#2, 200), ENSURE_REQUIREMENTS, [plan_id=4178]\n",
      "\n",
      "(7) HashAggregate\n",
      "Input [4]: [department#2, sum#3667, count#3668L, count#3669L]\n",
      "Keys [1]: [department#2]\n",
      "Functions [2]: [avg(salary#3L), count(1)]\n",
      "Aggregate Attributes [2]: [avg(salary#3L)#3597, count(1)#3599L]\n",
      "Results [3]: [department#2, avg(salary#3L)#3597 AS avg_salary#3598, count(1)#3599L AS emp_count#3600L]\n",
      "\n",
      "(8) Filter\n",
      "Input [3]: [department#2, avg_salary#3598, emp_count#3600L]\n",
      "Condition : (isnotnull(avg_salary#3598) AND (avg_salary#3598 > 80000.0))\n",
      "\n",
      "(9) AdaptiveSparkPlan\n",
      "Output [3]: [department#2, avg_salary#3598, emp_count#3600L]\n",
      "Arguments: isFinalPlan=false\n",
      "\n",
      "\n",
      "\n",
      "--- COST-BASED OPTIMIZATION ---\n",
      "== Optimized Logical Plan ==\n",
      "Filter (isnotnull(avg_salary#3598) AND (avg_salary#3598 > 80000.0)), Statistics(sizeInBytes=155.0 B)\n",
      "+- Aggregate [department#2], [department#2, avg(salary#3L) AS avg_salary#3598, count(1) AS emp_count#3600L], Statistics(sizeInBytes=155.0 B)\n",
      "   +- Project [department#2, salary#3L], Statistics(sizeInBytes=127.0 B)\n",
      "      +- Filter (isnotnull(salary#3L) AND (salary#3L > 75000)), Statistics(sizeInBytes=226.0 B)\n",
      "         +- InMemoryRelation [name#0, age#1L, department#2, salary#3L], StorageLevel(disk, memory, 1 replicas), Statistics(sizeInBytes=226.0 B, rowCount=5)\n",
      "               +- *(1) Scan ExistingRDD[name#0,age#1L,department#2,salary#3L]\n",
      "\n",
      "== Physical Plan ==\n",
      "AdaptiveSparkPlan isFinalPlan=false\n",
      "+- Filter (isnotnull(avg_salary#3598) AND (avg_salary#3598 > 80000.0))\n",
      "   +- HashAggregate(keys=[department#2], functions=[avg(salary#3L), count(1)], output=[department#2, avg_salary#3598, emp_count#3600L])\n",
      "      +- Exchange hashpartitioning(department#2, 200), ENSURE_REQUIREMENTS, [plan_id=4178]\n",
      "         +- HashAggregate(keys=[department#2], functions=[partial_avg(salary#3L), partial_count(1)], output=[department#2, sum#3667, count#3668L, count#3669L])\n",
      "            +- Filter (isnotnull(salary#3L) AND (salary#3L > 75000))\n",
      "               +- InMemoryTableScan [department#2, salary#3L], [isnotnull(salary#3L), (salary#3L > 75000)]\n",
      "                     +- InMemoryRelation [name#0, age#1L, department#2, salary#3L], StorageLevel(disk, memory, 1 replicas)\n",
      "                           +- *(1) Scan ExistingRDD[name#0,age#1L,department#2,salary#3L]\n",
      "\n",
      "\n",
      "Cache cleared successfully\n"
     ]
    }
   ],
   "source": [
    "print(\"=== Caching and Performance Optimization ===\\n\")\n",
    "\n",
    "# Demonstrate the impact of caching\n",
    "print(\"1. WITHOUT CACHING:\")\n",
    "start = time.time()\n",
    "result1 = employees_df.filter(col(\"salary\") > 75000).count()\n",
    "result2 = employees_df.groupBy(\"department\").avg(\"salary\").count()\n",
    "result3 = employees_df.filter(col(\"salary\") > 70000).count()\n",
    "end = time.time()\n",
    "print(f\"   Time taken: {end - start:.4f} seconds\")\n",
    "print(f\"   Storage Level: {employees_df.storageLevel}\")\n",
    "\n",
    "print(\"\\n2. WITH CACHING:\")\n",
    "# Cache and materialize\n",
    "employees_df.cache()\n",
    "employees_df.count()  # Trigger caching action\n",
    "print(f\"   Storage Level: {employees_df.storageLevel}\")\n",
    "\n",
    "start = time.time()\n",
    "result1 = employees_df.filter(col(\"salary\") > 75000).count()\n",
    "result2 = employees_df.groupBy(\"department\").avg(\"salary\").count()\n",
    "result3 = employees_df.filter(col(\"salary\") > 70000).count()\n",
    "end = time.time()\n",
    "print(f\"   Time taken: {end - start:.4f} seconds\")\n",
    "\n",
    "print(\"\\n3. CACHE vs PERSIST:\")\n",
    "# Unpersist previous cache\n",
    "employees_df.unpersist()\n",
    "\n",
    "# Use persist with specific storage level\n",
    "from pyspark import StorageLevel\n",
    "employees_df.persist(StorageLevel.MEMORY_AND_DISK)\n",
    "employees_df.count()\n",
    "print(f\"   Storage Level with persist(): {employees_df.storageLevel}\")\n",
    "print(\"   Tip: Use MEMORY_AND_DISK when data might not fit in memory\")\n",
    "\n",
    "print(\"\\n=== Query Execution Plan Analysis ===\\n\")\n",
    "\n",
    "# Create a complex query\n",
    "complex_query = (employees_df\n",
    "                 .filter(col(\"salary\") > 75000)\n",
    "                 .groupBy(\"department\")\n",
    "                 .agg(\n",
    "                     avg(\"salary\").alias(\"avg_salary\"),\n",
    "                     count(\"*\").alias(\"emp_count\")\n",
    "                 )\n",
    "                 .filter(col(\"avg_salary\") > 80000))\n",
    "\n",
    "print(\"Complex Query: High-earning departments analysis\")\n",
    "print(\"\\n--- LOGICAL PLAN (What to do) ---\")\n",
    "complex_query.explain(extended=False)\n",
    "\n",
    "print(\"\\n--- PHYSICAL PLAN (How to do it) ---\")\n",
    "complex_query.explain(mode=\"formatted\")\n",
    "\n",
    "print(\"\\n--- COST-BASED OPTIMIZATION ---\")\n",
    "complex_query.explain(mode=\"cost\")\n",
    "\n",
    "# Clean up\n",
    "employees_df.unpersist()\n",
    "print(\"Cache cleared successfully\")"
   ]
  },
  {
   "cell_type": "markdown",
   "metadata": {},
   "source": [
    "Performance Best Practices\n",
    "1. Cache when:\n",
    "   - DataFrame is reused multiple times\n",
    "   - After expensive operations (joins, aggregations)\n",
    "   - DataFrame fits in memory\n",
    "\n",
    "2. Don't cache when:\n",
    "   - DataFrame is used only once\n",
    "   - Data is too large for memory\n",
    "   - Source data changes frequently\n",
    "\n",
    "3. Storage Levels:\n",
    "   - MEMORY_ONLY: Fast, but risky if data doesn't fit\n",
    "   - MEMORY_AND_DISK: Safe default choice\n",
    "   - DISK_ONLY: For very large datasets\n",
    "   - MEMORY_ONLY_SER: Saves space with serialization\n",
    "\n",
    "4. Remember to unpersist() when done to free memory!"
   ]
  },
  {
   "cell_type": "markdown",
   "metadata": {},
   "source": [
    "## Section 8: Working with Complex Data Types\n",
    "\n",
    "Handle arrays, maps, and nested structures."
   ]
  },
  {
   "cell_type": "code",
   "execution_count": 20,
   "metadata": {},
   "outputs": [
    {
     "name": "stdout",
     "output_type": "stream",
     "text": [
      "=== Complex Data Types ===\n",
      "\n",
      "Original complex data:\n",
      "+-------+-------------------------+\n",
      "|name   |skills                   |\n",
      "+-------+-------------------------+\n",
      "|Alice  |[Python, SQL, Spark]     |\n",
      "|Bob    |[Java, Scala]            |\n",
      "|Charlie|[Python, R, SQL, Tableau]|\n",
      "+-------+-------------------------+\n",
      "\n",
      "\n",
      "Array operations:\n",
      "+-------+--------------------+-----------+------------+-------------+\n",
      "|   name|              skills|skill_count|knows_python|primary_skill|\n",
      "+-------+--------------------+-----------+------------+-------------+\n",
      "|  Alice|[Python, SQL, Spark]|          3|        true|       Python|\n",
      "|    Bob|       [Java, Scala]|          2|       false|         Java|\n",
      "|Charlie|[Python, R, SQL, ...|          4|        true|       Python|\n",
      "+-------+--------------------+-----------+------------+-------------+\n",
      "\n"
     ]
    }
   ],
   "source": [
    "# Working with arrays and complex types\n",
    "print(\"=== Complex Data Types ===\")\n",
    "\n",
    "# Create data with arrays\n",
    "complex_data = [\n",
    "    (\"Alice\", [\"Python\", \"SQL\", \"Spark\"]),\n",
    "    (\"Bob\", [\"Java\", \"Scala\"]),\n",
    "    (\"Charlie\", [\"Python\", \"R\", \"SQL\", \"Tableau\"])\n",
    "]\n",
    "\n",
    "complex_df = spark.createDataFrame(complex_data, [\"name\", \"skills\"])\n",
    "\n",
    "print(\"\\nOriginal complex data:\")\n",
    "complex_df.show(truncate=False)\n",
    "\n",
    "# Work with arrays\n",
    "print(\"\\nArray operations:\")\n",
    "array_ops = complex_df.select(\n",
    "    col(\"name\"),\n",
    "    col(\"skills\"),\n",
    "    size(col(\"skills\")).alias(\"skill_count\"),\n",
    "    array_contains(col(\"skills\"), \"Python\").alias(\"knows_python\"),\n",
    "    col(\"skills\")[0].alias(\"primary_skill\")\n",
    ")\n",
    "array_ops.show()"
   ]
  },
  {
   "cell_type": "markdown",
   "metadata": {},
   "source": [
    "## Section 9: Integration with Pandas\n",
    "\n",
    "Convert between Spark DataFrames and Pandas for visualization."
   ]
  },
  {
   "cell_type": "code",
   "execution_count": 21,
   "metadata": {},
   "outputs": [
    {
     "name": "stdout",
     "output_type": "stream",
     "text": [
      "=== Spark to Pandas Integration ===\n",
      "\n",
      "Department statistics (Pandas):\n",
      "    department  employee_count  avg_salary\n",
      "0  Engineering               3     85000.0\n",
      "1    Marketing               1     65000.0\n",
      "2        Sales               1     72000.0\n"
     ]
    },
    {
     "data": {
      "image/png": "[encoded data removed]",
      "text/plain": [
       "<Figure size 1200x500 with 2 Axes>"
      ]
     },
     "metadata": {},
     "output_type": "display_data"
    }
   ],
   "source": [
    "# Convert to Pandas for visualization\n",
    "print(\"=== Spark to Pandas Integration ===\")\n",
    "\n",
    "# Get department statistics\n",
    "dept_stats_spark = employees_df.groupBy(\"department\").agg(\n",
    "    count(\"*\").alias(\"employee_count\"),\n",
    "    round(avg(\"salary\"), 0).alias(\"avg_salary\")\n",
    ")\n",
    "\n",
    "# Convert to Pandas\n",
    "dept_stats_pandas = dept_stats_spark.toPandas()\n",
    "\n",
    "print(\"\\nDepartment statistics (Pandas):\")\n",
    "print(dept_stats_pandas)\n",
    "\n",
    "# Create visualizations\n",
    "plt.figure(figsize=(12, 5))\n",
    "\n",
    "# Employee count by department\n",
    "plt.subplot(1, 2, 1)\n",
    "plt.bar(dept_stats_pandas['department'], dept_stats_pandas['employee_count'])\n",
    "plt.title('Employee Count by Department')\n",
    "plt.xlabel('Department')\n",
    "plt.ylabel('Employee Count')\n",
    "plt.xticks(rotation=45)\n",
    "\n",
    "# Average salary by department\n",
    "plt.subplot(1, 2, 2)\n",
    "plt.bar(dept_stats_pandas['department'], dept_stats_pandas['avg_salary'])\n",
    "plt.title('Average Salary by Department')\n",
    "plt.xlabel('Department')\n",
    "plt.ylabel('Average Salary ($)')\n",
    "plt.xticks(rotation=45)\n",
    "\n",
    "plt.tight_layout()\n",
    "plt.show()"
   ]
  },
  {
   "cell_type": "markdown",
   "metadata": {},
   "source": [
    "## Summary and Next Steps\n",
    "\n",
    "Congratulations! You've completed the Spark DataFrames & SQL interactive tutorial. You've learned:\n",
    "\n",
    "### Key Concepts Covered:\n",
    "1. **DataFrame Creation** - From various data sources and with different schemas\n",
    "2. **Basic Operations** - Select, filter, sort, and aggregate data\n",
    "3. **Column Functions** - String, numeric, date, and conditional operations\n",
    "4. **Spark SQL** - Using SQL syntax for complex queries\n",
    "5. **Window Functions** - Advanced analytics and ranking\n",
    "6. **Performance Optimization** - Caching and execution plan analysis\n",
    "7. **Complex Data Types** - Arrays, maps, and nested structures\n",
    "8. **Integration** - Working with Pandas and visualization\n",
    "\n",
    "### Next Steps:\n",
    "1. **Practice with Exercises** - Complete the 7 hands-on exercises\n",
    "2. **Explore Solutions** - Study the provided solution files\n",
    "3. **Run Tests** - Validate your understanding with the test suite\n",
    "4. **Advanced Topics** - Move on to streaming, MLlib, or advanced optimizations\n",
    "\n",
    "### Resources:\n",
    "- Exercise files in the `exercises/` directory\n",
    "- Solution files in the `solutions/` directory\n",
    "- Test your code with `make test`\n",
    "- Use `make help` to see all available commands\n",
    "\n",
    "Happy Spark learning! 🚀"
   ]
  },
  {
   "cell_type": "code",
   "execution_count": 22,
   "metadata": {},
   "outputs": [
    {
     "name": "stdout",
     "output_type": "stream",
     "text": [
      "Spark session stopped. Notebook complete!\n"
     ]
    }
   ],
   "source": [
    "# Clean up\n",
    "spark.stop()\n",
    "print(\"Spark session stopped. Notebook complete!\")"
   ]
  }
 ],
 "metadata": {
  "kernelspec": {
   "display_name": "Python 3 (ipykernel)",
   "language": "python",
   "name": "python3"
  },
  "language_info": {
   "codemirror_mode": {
    "name": "ipython",
    "version": 3
   },
   "file_extension": ".py",
   "mimetype": "text/x-python",
   "name": "python",
   "nbconvert_exporter": "python",
   "pygments_lexer": "ipython3",
   "version": "3.11.13"
  }
 },
 "nbformat": 4,
 "nbformat_minor": 4
}
